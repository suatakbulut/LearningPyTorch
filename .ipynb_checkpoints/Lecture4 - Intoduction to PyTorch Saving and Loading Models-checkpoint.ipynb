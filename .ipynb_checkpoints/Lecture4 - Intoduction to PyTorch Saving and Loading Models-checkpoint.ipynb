{
 "cells": [
  {
   "cell_type": "markdown",
   "metadata": {},
   "source": [
    "# Saving and Loading Models \n",
    "\n",
    "Training models take too much time. Often we want to load the previously trained models to use in making predictions or to continue training on new data. "
   ]
  },
  {
   "cell_type": "code",
   "execution_count": 1,
   "metadata": {},
   "outputs": [],
   "source": [
    "%matplotlib inline\n",
    "%config InlineBackend.figure_format = 'retina'\n",
    "import matplotlib.pyplot as plt \n",
    "\n",
    "import torch\n",
    "from torch import nn, optim \n",
    "import torch.nn.functional as F \n",
    "from torchvision import datasets, transforms "
   ]
  },
  {
   "cell_type": "markdown",
   "metadata": {},
   "source": [
    "Let's feed our data into trainloader and testloader. "
   ]
  },
  {
   "cell_type": "code",
   "execution_count": 2,
   "metadata": {},
   "outputs": [],
   "source": [
    "transformation = transforms.Compose([transforms.ToTensor(),\n",
    "                                     transforms.Normalize((0.5,), (0.5,))\n",
    "                                    ])\n",
    "\n",
    "trainset = datasets.FashionMNIST(root = 'F_MNIST_data', train=True, download=False, transform = transformation) \n",
    "testset  = datasets.FashionMNIST(root = 'F_MNIST_data', train=False, download=False, transform = transformation) \n",
    "\n",
    "parameters = {'batch_size' : 64, \n",
    "              'shuffle' : True\n",
    "             }\n",
    "\n",
    "trainloader = torch.utils.data.DataLoader(trainset, **parameters)\n",
    "testloader  = torch.utils.data.DataLoader(testset,  **parameters)"
   ]
  },
  {
   "cell_type": "markdown",
   "metadata": {},
   "source": [
    "As a reminder let's see how an image in our trainset looks like. "
   ]
  },
  {
   "cell_type": "code",
   "execution_count": 3,
   "metadata": {},
   "outputs": [
    {
     "data": {
      "text/plain": [
       "<matplotlib.image.AxesImage at 0x22fa187fe88>"
      ]
     },
     "execution_count": 3,
     "metadata": {},
     "output_type": "execute_result"
    },
    {
     "data": {
      "image/png": "[encoded data removed]",
      "text/plain": [
       "<Figure size 432x288 with 1 Axes>"
      ]
     },
     "metadata": {
      "image/png": {
       "height": 248,
       "width": 251
      },
      "needs_background": "light"
     },
     "output_type": "display_data"
    }
   ],
   "source": [
    "image, label = next(iter(trainloader))\n",
    "plt.imshow(image[0].numpy().squeeze())"
   ]
  },
  {
   "cell_type": "markdown",
   "metadata": {},
   "source": [
    "Define our model and train it. "
   ]
  },
  {
   "cell_type": "code",
   "execution_count": 21,
   "metadata": {},
   "outputs": [],
   "source": [
    "class Classifier(nn.Module):\n",
    "    def __init__(self):\n",
    "        super().__init__()\n",
    "        self.fc1 = nn.Linear(784, 256)\n",
    "        self.fc2 = nn.Linear(256, 128)\n",
    "        self.fc3 = nn.Linear(128,  64)\n",
    "        self.fc4 = nn.Linear( 64,  10)\n",
    "        \n",
    "        # i am adding this for saving the checkpoint part\n",
    "        self.hidden_layers = [self.fc2, self.fc3]\n",
    "        \n",
    "        self.dropout = nn.Dropout(p=0.2)\n",
    "        \n",
    "    def forward(self, x):\n",
    "        x = x.view(x.shape[0], -1)\n",
    "        \n",
    "        x = self.dropout(F.relu(self.fc1(x)))\n",
    "        x = self.dropout(F.relu(self.fc2(x)))\n",
    "        x = self.dropout(F.relu(self.fc3(x)))\n",
    "        \n",
    "        x = F.log_softmax(self.fc4(x), dim=1)\n",
    "        \n",
    "        return x"
   ]
  },
  {
   "cell_type": "code",
   "execution_count": 22,
   "metadata": {},
   "outputs": [],
   "source": [
    "model = Classifier()\n",
    "optimizer = optim.Adam(model.parameters(), lr=0.003)\n",
    "criterion = nn.NLLLoss() "
   ]
  },
  {
   "cell_type": "code",
   "execution_count": 6,
   "metadata": {},
   "outputs": [
    {
     "name": "stdout",
     "output_type": "stream",
     "text": [
      "Epoch: 1/30... Training Loss: 0.606... Validation Loss: 0.507... Validation Accuracy: 0.817...\n",
      "Epoch: 2/30... Training Loss: 0.481... Validation Loss: 0.447... Validation Accuracy: 0.843...\n",
      "Epoch: 3/30... Training Loss: 0.455... Validation Loss: 0.445... Validation Accuracy: 0.839...\n",
      "Epoch: 4/30... Training Loss: 0.438... Validation Loss: 0.439... Validation Accuracy: 0.838...\n",
      "Epoch: 5/30... Training Loss: 0.423... Validation Loss: 0.395... Validation Accuracy: 0.863...\n",
      "Epoch: 6/30... Training Loss: 0.411... Validation Loss: 0.418... Validation Accuracy: 0.845...\n",
      "Epoch: 7/30... Training Loss: 0.404... Validation Loss: 0.400... Validation Accuracy: 0.855...\n",
      "Epoch: 8/30... Training Loss: 0.398... Validation Loss: 0.403... Validation Accuracy: 0.863...\n",
      "Epoch: 9/30... Training Loss: 0.397... Validation Loss: 0.410... Validation Accuracy: 0.853...\n",
      "Epoch: 10/30... Training Loss: 0.397... Validation Loss: 0.394... Validation Accuracy: 0.860...\n",
      "Epoch: 11/30... Training Loss: 0.381... Validation Loss: 0.394... Validation Accuracy: 0.858...\n",
      "Epoch: 12/30... Training Loss: 0.379... Validation Loss: 0.448... Validation Accuracy: 0.847...\n",
      "Epoch: 13/30... Training Loss: 0.380... Validation Loss: 0.378... Validation Accuracy: 0.867...\n",
      "Epoch: 14/30... Training Loss: 0.376... Validation Loss: 0.385... Validation Accuracy: 0.866...\n",
      "Epoch: 15/30... Training Loss: 0.372... Validation Loss: 0.387... Validation Accuracy: 0.866...\n",
      "Epoch: 16/30... Training Loss: 0.371... Validation Loss: 0.407... Validation Accuracy: 0.860...\n",
      "Epoch: 17/30... Training Loss: 0.369... Validation Loss: 0.420... Validation Accuracy: 0.858...\n",
      "Epoch: 18/30... Training Loss: 0.367... Validation Loss: 0.379... Validation Accuracy: 0.870...\n",
      "Epoch: 19/30... Training Loss: 0.364... Validation Loss: 0.375... Validation Accuracy: 0.867...\n",
      "Epoch: 20/30... Training Loss: 0.361... Validation Loss: 0.373... Validation Accuracy: 0.871...\n",
      "Epoch: 21/30... Training Loss: 0.355... Validation Loss: 0.369... Validation Accuracy: 0.875...\n",
      "Epoch: 22/30... Training Loss: 0.360... Validation Loss: 0.387... Validation Accuracy: 0.866...\n",
      "Epoch: 23/30... Training Loss: 0.354... Validation Loss: 0.378... Validation Accuracy: 0.863...\n",
      "Epoch: 24/30... Training Loss: 0.350... Validation Loss: 0.370... Validation Accuracy: 0.876...\n",
      "Epoch: 25/30... Training Loss: 0.349... Validation Loss: 0.398... Validation Accuracy: 0.870...\n",
      "Epoch: 26/30... Training Loss: 0.350... Validation Loss: 0.391... Validation Accuracy: 0.875...\n",
      "Epoch: 27/30... Training Loss: 0.351... Validation Loss: 0.371... Validation Accuracy: 0.874...\n",
      "Epoch: 28/30... Training Loss: 0.347... Validation Loss: 0.387... Validation Accuracy: 0.867...\n",
      "Epoch: 29/30... Training Loss: 0.348... Validation Loss: 0.383... Validation Accuracy: 0.871...\n",
      "Epoch: 30/30... Training Loss: 0.344... Validation Loss: 0.371... Validation Accuracy: 0.878...\n"
     ]
    }
   ],
   "source": [
    "epochs = 30\n",
    "\n",
    "training_losses, validation_losses = [], []\n",
    "\n",
    "for e in range(epochs):\n",
    "    running_loss = 0\n",
    "    for images, labels in trainloader:\n",
    "        optimizer.zero_grad()\n",
    "        \n",
    "        probs = model(images)\n",
    "        loss = criterion(probs, labels)\n",
    "        loss.backward()\n",
    "        optimizer.step()\n",
    "        \n",
    "        running_loss += loss.item()\n",
    "    else:\n",
    "        accuracy = 0\n",
    "        val_loss = 0\n",
    "        with torch.no_grad():\n",
    "            model.eval()\n",
    "            for images, labels in testloader:\n",
    "                log_probs = model(images)\n",
    "                val_loss += criterion(log_probs, labels)\n",
    "                                \n",
    "                probs = torch.exp(log_probs)\n",
    "                top_p, top_class = probs.topk(1, dim=1)\n",
    "                equals = top_class == labels.view(*top_class.shape)\n",
    "                \n",
    "                accuracy += torch.mean(equals.type(torch.FloatTensor))\n",
    "        \n",
    "        model.train()\n",
    "        \n",
    "        training_losses.append(running_loss/len(trainloader))\n",
    "        validation_losses.append(val_loss/len(testloader))\n",
    "        \n",
    "        print(\"Epoch: {}/{}...\".format(e+1, epochs),\n",
    "              \"Training Loss: {:.3f}...\".format(running_loss/len(trainloader)), \n",
    "              \"Validation Loss: {:.3f}...\".format(val_loss/len(testloader)), \n",
    "              \"Validation Accuracy: {:.3f}...\".format(accuracy / len(testloader))\n",
    "             )"
   ]
  },
  {
   "cell_type": "code",
   "execution_count": 7,
   "metadata": {},
   "outputs": [
    {
     "data": {
      "text/plain": [
       "<matplotlib.legend.Legend at 0x22fa7ff7708>"
      ]
     },
     "execution_count": 7,
     "metadata": {},
     "output_type": "execute_result"
    },
    {
     "data": {
      "image/png": "[encoded data removed]",
      "text/plain": [
       "<Figure size 432x288 with 1 Axes>"
      ]
     },
     "metadata": {
      "image/png": {
       "height": 248,
       "width": 380
      },
      "needs_background": "light"
     },
     "output_type": "display_data"
    }
   ],
   "source": [
    "plt.plot(training_losses, label='Training Loss')\n",
    "plt.plot(validation_losses, label = 'Validation Loss')\n",
    "plt.legend()"
   ]
  },
  {
   "cell_type": "markdown",
   "metadata": {},
   "source": [
    "# Saving and Loading\n",
    "\n",
    "Now that we have trained our model, in other words we have tuned our parameters, we can save it by simply storing the tuned values for the parameters of the network. The parameters for PyTorch networks are stored in a model's `state_dict`, which includes weight and bias matrices for each layers. "
   ]
  },
  {
   "cell_type": "code",
   "execution_count": 12,
   "metadata": {},
   "outputs": [
    {
     "name": "stdout",
     "output_type": "stream",
     "text": [
      "Our model: /n/n Classifier(\n",
      "  (fc1): Linear(in_features=784, out_features=256, bias=True)\n",
      "  (fc2): Linear(in_features=256, out_features=128, bias=True)\n",
      "  (fc3): Linear(in_features=128, out_features=64, bias=True)\n",
      "  (fc4): Linear(in_features=64, out_features=10, bias=True)\n",
      "  (dropout): Dropout(p=0.2, inplace=False)\n",
      ") /n\n",
      "The state dict keys: /n/n odict_keys(['fc1.weight', 'fc1.bias', 'fc2.weight', 'fc2.bias', 'fc3.weight', 'fc3.bias', 'fc4.weight', 'fc4.bias'])\n"
     ]
    }
   ],
   "source": [
    "print('Our model: /n/n', model, '/n')\n",
    "print('The state dict keys: /n/n', model.state_dict().keys())"
   ]
  },
  {
   "cell_type": "markdown",
   "metadata": {},
   "source": [
    "Now we can save the state dict with `torch.save`. For example, we can save it to a file `'checkpoint.pth'`."
   ]
  },
  {
   "cell_type": "code",
   "execution_count": 13,
   "metadata": {},
   "outputs": [],
   "source": [
    "torch.save(model.state_dict(), 'checkpoint.pth')"
   ]
  },
  {
   "cell_type": "markdown",
   "metadata": {},
   "source": [
    "Then we can load state dict with `torch.load`. "
   ]
  },
  {
   "cell_type": "code",
   "execution_count": 14,
   "metadata": {},
   "outputs": [
    {
     "name": "stdout",
     "output_type": "stream",
     "text": [
      "odict_keys(['fc1.weight', 'fc1.bias', 'fc2.weight', 'fc2.bias', 'fc3.weight', 'fc3.bias', 'fc4.weight', 'fc4.bias'])\n"
     ]
    }
   ],
   "source": [
    "state_dict = torch.load('checkpoint.pth')\n",
    "print(state_dict.keys())"
   ]
  },
  {
   "cell_type": "markdown",
   "metadata": {},
   "source": [
    "Then we can simply load the state dict to a new model as follows: \n",
    "```python \n",
    "model = some_model\n",
    "model.load_state_dict(state_dict)\n",
    "```\n",
    "This method, even though seems pretty simple, is a bit more complicated because the new model has to have the same arhitecture with the old one, same number of layers and same inputs size per each layer.  "
   ]
  },
  {
   "cell_type": "code",
   "execution_count": 23,
   "metadata": {},
   "outputs": [],
   "source": [
    "checkpoint = {'input_size' : 784, \n",
    "              'output_size' : 10, \n",
    "              'hidden_layers' : [each.out_features for each in model.hidden_layers], \n",
    "              'state_dict' : model.state_dict()\n",
    "             }\n",
    "\n",
    "torch.save(checkpoint, 'checkpoint.pth')\n"
   ]
  },
  {
   "cell_type": "code",
   "execution_count": null,
   "metadata": {},
   "outputs": [],
   "source": [
    "def load_checkpoint(filepath):\n",
    "    # suppose func_model.Network takes input size, outputsize and hidden layers \n",
    "    # to build the arhitecture of the model\n",
    "    checkpoint = torch.load(filepath) \n",
    "    model = func_model.Network(checkpoint['input_size'],\n",
    "                               checkpoint['output_size'],\n",
    "                               checkpoint['hidden_layers']) \n",
    "    model.load_state_dict(checkpoint[state_dict])\n",
    "    \n",
    "    return model\n"
   ]
  },
  {
   "cell_type": "code",
   "execution_count": null,
   "metadata": {},
   "outputs": [],
   "source": [
    "model = load_checkpoint('checkpoint.pth')\n",
    "print(model)"
   ]
  }
 ],
 "metadata": {
  "kernelspec": {
   "display_name": "Python 3",
   "language": "python",
   "name": "python3"
  },
  "language_info": {
   "codemirror_mode": {
    "name": "ipython",
    "version": 3
   },
   "file_extension": ".py",
   "mimetype": "text/x-python",
   "name": "python",
   "nbconvert_exporter": "python",
   "pygments_lexer": "ipython3",
   "version": "3.7.7"
  }
 },
 "nbformat": 4,
 "nbformat_minor": 4
}
