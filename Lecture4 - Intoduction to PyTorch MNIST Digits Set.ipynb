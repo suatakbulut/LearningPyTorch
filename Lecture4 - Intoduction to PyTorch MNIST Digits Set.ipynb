{
 "cells": [
  {
   "cell_type": "markdown",
   "metadata": {},
   "source": [
    "<h1> <center>PyTorch</center> </h1>\n",
    "\n",
    "A **tensor** is a generalization of matrices. A vector is 1-dim tensor, a matrix is a 2-dim tensor, and RGB color image is an array with three indices, so it is 3-dim tensor. \n",
    "\n",
    "Table of Contents\n",
    "1. [Single Layer Network](#single_layer_network) \n",
    "1. [Multi-Layer Network](#multi_layer_network)\n",
    "1. [Numpy to Torch and Back](#numpy_to_torch_and_back) \n",
    "1. [Neural Networks with PyTorch](#neural_networks_with_pytorch)\n",
    "1. [Building networks with PyTorch from scratch](#building_networks_with_pytorch) \n",
    "    1. [Activation Functions](#activation_functions)  \n",
    "    1. [Initializing weights and biases](#initializing_weights_and_biases)  \n",
    "    1. [Forward Pass](#forward_pass)\n",
    "1. [Building Networks using `nn.Sequential`](#sequential)\n",
    "1. [Model Training](#training)\n",
    "    1. [Autograd](#autograd)\n",
    "    1. [Loss and Autograd Together ](#loss_autograd)\n",
    "    1. [Training the network](#training_network)\n",
    "1. [Training For Real](#training_forreal)\n",
    "\n"
   ]
  },
  {
   "cell_type": "code",
   "execution_count": 1,
   "metadata": {},
   "outputs": [],
   "source": [
    "# Firts, let's import PyTorch\n",
    "import torch"
   ]
  },
  {
   "cell_type": "code",
   "execution_count": 2,
   "metadata": {},
   "outputs": [],
   "source": [
    "def activation(x):\n",
    "    '''Sigmoid activation fnc\n",
    "    \n",
    "    Parameters\n",
    "    ----------\n",
    "    x: torch.Tensor\n",
    "    '''\n",
    "    return 1 / (1 + torch.exp(-x))"
   ]
  },
  {
   "cell_type": "markdown",
   "metadata": {},
   "source": [
    "<a id='single_layer_network'></a>\n",
    "## 1. Single Layer Network"
   ]
  },
  {
   "cell_type": "code",
   "execution_count": 3,
   "metadata": {},
   "outputs": [],
   "source": [
    "# Create some fake data \n",
    "torch.manual_seed(3) # set the random seed \n",
    "\n",
    "# tensors from a normal distribution 1row 5 cols\n",
    "features = torch.randn((1,5))\n",
    "\n",
    "# some weigths\n",
    "weights = torch.randn_like(features)\n",
    "bias = torch.randn((1,1))"
   ]
  },
  {
   "cell_type": "markdown",
   "metadata": {},
   "source": [
    "Now, let us calculate the output of this single layered network. \n",
    "\n",
    "$$ y = f \\left( \\sum_i w_i X_i + b \\right) $$\n",
    "where f is the activation function, w is weights, and X is the features"
   ]
  },
  {
   "cell_type": "code",
   "execution_count": 4,
   "metadata": {},
   "outputs": [
    {
     "data": {
      "text/plain": [
       "tensor([[0.6220]])"
      ]
     },
     "execution_count": 4,
     "metadata": {},
     "output_type": "execute_result"
    }
   ],
   "source": [
    "y = activation(torch.sum(features * weights) + bias)\n",
    "# y = activation((features * weights).sum() + bias)\n",
    "y"
   ]
  },
  {
   "cell_type": "markdown",
   "metadata": {},
   "source": [
    "The most efficient way to multiply tensors is using \n",
    "   1. **torch.mm** : prefer this one. More strict on the dimensions, if there is a problem yields an error \n",
    "   2. **torch.matmul** : supports broadcasting. tensors with weird shape might yield an output. \n",
    "\n",
    "You will check your tensors' shape a lot using **tensor.shape**. Reshaping methods are:\n",
    "   1. **weights.reshape(a,b)** : the actual data in the memory will not be change, however sometimes instead it changes the original data \n",
    "   2. **weights.resize_(a,b)** : if you request more or less data than the original data your original data will loose some data \n",
    "   3. **weights.view(a,b)** : *TEHE BEST ONE.* returns (a,b) shape of the tensor without messing with the original one\n",
    "   \n",
    "Now, let s do the same calculation using matrix multiplication. "
   ]
  },
  {
   "cell_type": "code",
   "execution_count": 5,
   "metadata": {
    "scrolled": true
   },
   "outputs": [
    {
     "name": "stdout",
     "output_type": "stream",
     "text": [
      "torch.Size([1, 5])\n",
      "torch.Size([1, 5])\n"
     ]
    }
   ],
   "source": [
    "print(features.shape)\n",
    "print(weights.shape)"
   ]
  },
  {
   "cell_type": "markdown",
   "metadata": {},
   "source": [
    "So we must reshape weights from (1,5) to (5,1). "
   ]
  },
  {
   "cell_type": "code",
   "execution_count": 6,
   "metadata": {
    "scrolled": true
   },
   "outputs": [
    {
     "data": {
      "text/plain": [
       "tensor([[0.6220]])"
      ]
     },
     "execution_count": 6,
     "metadata": {},
     "output_type": "execute_result"
    }
   ],
   "source": [
    "y = activation( torch.mm(features, weights.view(5,1)) + bias )\n",
    "y"
   ]
  },
  {
   "cell_type": "markdown",
   "metadata": {},
   "source": [
    "<a id='multi_layer_network'></a>\n",
    "## 2. Multi-Layer Network\n",
    "\n",
    "Now suppose we have n input layers and a hidden layer with 2 neurons, $h_1$ and $h_2$. \n",
    "We can find the output $h_1$ as \n",
    "$$ h_1 = f \\left( \\sum_i x_i w_{1i} + bias_1 \\right) $$\n",
    "Similarly, \n",
    "$$ h_2 = f \\left( \\sum_i x_i w_{2i} + bias_2 \\right) $$\n",
    "Or as a matrix multiplication, we can do the following \n",
    "\n",
    "$$ \n",
    "\\vec{h} =  [h_1 h_2] = f \\left( [x_1 x_2 \\ldots x_n] \\cdot \\begin{bmatrix}\n",
    "           w_{11}  & w_{21}\\\\\n",
    "           w_{22}  & w_{22}\\\\\n",
    "           \\vdots  & \\vdots \\\\\n",
    "           w_{n1}  & w_{n2}\n",
    "         \\end{bmatrix} + Bias \\right)\n",
    "$$\n",
    "\n",
    "Now let's create some fake data and calculate the output of a multi layer network with one hidden layer. \n",
    "\n",
    "<img src = \"multilayer_network.png\" style=\"width: 300px;\"/>"
   ]
  },
  {
   "cell_type": "code",
   "execution_count": 7,
   "metadata": {},
   "outputs": [],
   "source": [
    "# Create some fake data \n",
    "torch.manual_seed(3) # set the random seed \n",
    "\n",
    "# Create 3 features \n",
    "features = torch.randn((1,3)) \n",
    "\n",
    "# Number of neurons in layers: input, hidden, and output\n",
    "n_input = features.shape[1] \n",
    "n_hidden = 2 \n",
    "n_ouput = 2\n",
    "\n",
    "# From input to hidden layer n_input x n_hidden\n",
    "W1 = torch.randn(n_input, n_hidden)\n",
    "B1 = torch.randn((1, n_hidden))\n",
    "\n",
    "# From hidden layer to output n_hidden x n_ouput\n",
    "W2 = torch.randn(n_hidden, n_ouput) \n",
    "B2 = torch.randn((1, n_ouput))"
   ]
  },
  {
   "cell_type": "code",
   "execution_count": 8,
   "metadata": {},
   "outputs": [
    {
     "name": "stdout",
     "output_type": "stream",
     "text": [
      "Shape of features: torch.Size([1, 3])\n",
      "Shape of W1: torch.Size([3, 2])\n",
      "Shape of W2: torch.Size([2, 2])\n"
     ]
    }
   ],
   "source": [
    "print('Shape of features: {}'.format(features.shape))\n",
    "print('Shape of W1: {}'.format(W1.shape))\n",
    "print('Shape of W2: {}'.format(W2.shape))"
   ]
  },
  {
   "cell_type": "code",
   "execution_count": 9,
   "metadata": {},
   "outputs": [
    {
     "name": "stdout",
     "output_type": "stream",
     "text": [
      "tensor([[0.6958, 0.6643]])\n"
     ]
    }
   ],
   "source": [
    "h = activation(torch.mm(features, W1) + B1)\n",
    "output = activation(torch.mm(h, W2) + B2)\n",
    "print(output)"
   ]
  },
  {
   "cell_type": "markdown",
   "metadata": {},
   "source": [
    "The number of hidden units parameters of the network is hyperparameter.\n",
    "<a id='numpy_to_torch_and_back'></a>\n",
    "## 3. Numpy to Torch and Back \n",
    "\n",
    "To convert to a numpy array to a tensor **torch.from_numpy()**\n",
    "From a tensor to a numpy **.numpy()** \n",
    "\n",
    "The memory is shared between Numpy and Torch. So if you change one value the other one will be changed as well. "
   ]
  },
  {
   "cell_type": "code",
   "execution_count": 10,
   "metadata": {},
   "outputs": [
    {
     "name": "stdout",
     "output_type": "stream",
     "text": [
      "tensor([[ 0.8157,  0.4952, -0.1643, -0.6780, -1.0591],\n",
      "        [ 0.7477,  0.2389, -0.3922,  0.1519, -1.1837],\n",
      "        [ 0.5344, -1.4510, -0.6294,  0.1544, -0.2480]])\n",
      "[[ 0.8156775   0.495189   -0.16431698 -0.6779622  -1.0591074 ]\n",
      " [ 0.74769664  0.23891741 -0.39215022  0.1519149  -1.1837332 ]\n",
      " [ 0.5343607  -1.4510227  -0.629374    0.1544151  -0.24799016]]\n",
      "tensor([[ 0.8157,  0.4952, -0.1643, -0.6780, -1.0591],\n",
      "        [ 0.7477,  0.2389, -0.3922,  0.1519, -1.1837],\n",
      "        [ 0.5344, -1.4510, -0.6294,  0.1544, -0.2480]])\n"
     ]
    }
   ],
   "source": [
    "tensor = torch.randn((3,5))\n",
    "print(tensor) \n",
    "numpy = tensor.numpy()\n",
    "print(numpy)\n",
    "tensor_back = torch.from_numpy(numpy)\n",
    "print(tensor_back)"
   ]
  },
  {
   "cell_type": "markdown",
   "metadata": {},
   "source": [
    "<a id='neural_networks_with_pytorch'></a>\n",
    "## 4. Neural Networks with PyTorch \n",
    "\n",
    "PyTorch has a nice module **nn** that provides an efficient way of building large neural networks. \n",
    "\n",
    "To do that we will use MNIST image dataset, which consists of grayscale handwritten digits, we will try to predict. Each image is 28x28 pixels. \n",
    "\n",
    "First off, let's load the dataset through torchvision."
   ]
  },
  {
   "cell_type": "code",
   "execution_count": 11,
   "metadata": {},
   "outputs": [],
   "source": [
    "# import some necessary packages \n",
    "%matplotlib inline\n",
    "\n",
    "# import torch (we have imported it at the beginning)\n",
    "import numpy as np\n",
    "import matplotlib.pyplot as plt "
   ]
  },
  {
   "cell_type": "code",
   "execution_count": 12,
   "metadata": {},
   "outputs": [],
   "source": [
    "from torchvision import datasets, transforms # conda install torchvision -c soumith to install torchvision (Windows, conda) \n",
    "# Define a transofmration to normalize data \n",
    "transform = transforms.Compose ([transforms.ToTensor(), \n",
    "                                transforms.Normalize((0.5, 0.5, 0.5),(0.5, 0.5, 0.5))\n",
    "                                ])\n",
    "\n",
    "# Download and load the train data\n",
    "train_set = datasets.MNIST('MNIST_data/train/', download = True, train = True, transform = transform) \n",
    "trainloader = torch.utils.data.DataLoader(train_set, batch_size = 64, shuffle = True)\n",
    "\n",
    "# Download and load the test data\n",
    "test_set = datasets.MNIST('MNIST_data/test/', download=True, train=False, transform=transform)\n",
    "testloader = torch.utils.data.DataLoader(test_set, batch_size=64, shuffle=True)"
   ]
  },
  {
   "cell_type": "markdown",
   "metadata": {},
   "source": [
    "We load the data into generators, trainloader and testloader. We will turn them into iterator. Or we can use for loop and loop through the generator. Since we chose **batch_size=64**, the images below are just a tensor with size **(64, 1, 28, 28)**. In other words, we have 64 of 1 color channel and 28x28 pixel images images per batch. "
   ]
  },
  {
   "cell_type": "code",
   "execution_count": 13,
   "metadata": {},
   "outputs": [
    {
     "name": "stdout",
     "output_type": "stream",
     "text": [
      "<class 'torch.Tensor'>\n",
      "torch.Size([64, 1, 28, 28])\n",
      "torch.Size([64])\n"
     ]
    }
   ],
   "source": [
    "dataiter = iter(trainloader)\n",
    "images,  labels = dataiter.next() \n",
    "\n",
    "print(type(images))\n",
    "print(images.shape)\n",
    "print(labels.shape)"
   ]
  },
  {
   "cell_type": "markdown",
   "metadata": {},
   "source": [
    "How does an image look like?"
   ]
  },
  {
   "cell_type": "code",
   "execution_count": 14,
   "metadata": {},
   "outputs": [
    {
     "name": "stdout",
     "output_type": "stream",
     "text": [
      "The image below is labeled as a \"2\".\n"
     ]
    },
    {
     "data": {
      "image/png": "[encoded data removed]",
      "text/plain": [
       "<Figure size 432x288 with 1 Axes>"
      ]
     },
     "metadata": {
      "needs_background": "light"
     },
     "output_type": "display_data"
    }
   ],
   "source": [
    "plt.imshow(images[1].numpy().squeeze(), cmap = 'Greys_r'); \n",
    "print('The image below is labeled as a \"{}\".'.format(labels[1]))"
   ]
  },
  {
   "cell_type": "markdown",
   "metadata": {},
   "source": [
    "Now, let's build a neural network for this dataset using weight matrices and matrix multiplication. Then we will do it with PyTorch's **nn** module. \n",
    "\n",
    "For this exersice we will build a *Dense* (*fully-connected*) network. In a dense network, wach unit in one layer is connected to each unit in the next layer. In fully-connected networks, the input to each layer must be a one-dimensional vector. However, our images are 28x28 2D tensors, so we need to convert them into 1D vectors. Thinking about sizes, we need to convert the batch of images with shape (64, 1, 28, 28) to a have a shape of (64, 784), where 28x28 = 784. This is typically called flattening, we flattened the 2D images into 1D vectors.\n",
    "\n",
    "Moreover, unlike above where we had only one output unit in the output layer, here we need 10 output units, one for each digit. We want our network to predict the digit shown in an image, so what we'll do is calculate probabilities that the image is of any one digit or class. This ends up being a discrete probability distribution over the classes (digits) that tells us the most likely class for the image. That means we need 10 output units for the 10 classes (digits). \n",
    "\n",
    "    Exercise: Flatten the batch of images images. Then build a multi-layer network with 784 input units, 256 hidden units, and 10 output units using random tensors for the weights and biases. For now, use a sigmoid activation for the hidden layer. Leave the output layer without an activation, we'll add one that gives us a probability distribution next."
   ]
  },
  {
   "cell_type": "code",
   "execution_count": 15,
   "metadata": {},
   "outputs": [],
   "source": [
    "# define the activation function (for now stick to sigmoid activation function)\n",
    "\n",
    "def activation(x):\n",
    "    return 1/(1+torch.exp(-x))\n",
    "\n",
    "# flatten the input\n",
    "inputs = images.view(images.shape[0], -1) \n",
    "# -1 handles the remaning part so we do not need to calculate it. Here we preserve \n",
    "# 64, the number of the observations and flatten the (1,28,28) part to (784) \n",
    "\n",
    "# create weights and biases\n",
    "# from input to hidden layer\n",
    "w1 = torch.randn(784,256)\n",
    "b1 = torch.randn(256)\n",
    "\n",
    "# from hidden to output \n",
    "w2 = torch.randn(256, 10)\n",
    "b2 = torch.randn(10) \n",
    "\n",
    "h = activation( torch.mm(inputs, w1) + b1 ) # the outputs of the neurons in the hidden layer \n",
    "\n",
    "output = torch.mm(h, w2) + b2 "
   ]
  },
  {
   "cell_type": "markdown",
   "metadata": {},
   "source": [
    "We do want our network to tell us the probabilities of an image belonging to a class of digit. In other words, we want it to result in a probability distribution. However, this one yields the following "
   ]
  },
  {
   "cell_type": "code",
   "execution_count": 16,
   "metadata": {},
   "outputs": [
    {
     "data": {
      "text/plain": [
       "tensor([[ 1.3595e+01, -1.2531e+01,  2.4790e+00,  1.3937e+01, -2.8479e+00,\n",
       "          3.3568e+00, -1.5519e+01, -4.7815e+00,  1.2554e+01,  6.8631e-01],\n",
       "        [ 1.3518e+00, -1.8978e+01,  1.2984e+00,  1.0550e+01, -9.7840e+00,\n",
       "          3.4710e+00, -1.5515e+01, -4.4512e+00,  1.4810e+00,  3.9936e+00],\n",
       "        [ 2.5064e+00, -3.4271e+00,  5.1454e-01,  1.6956e+01, -3.7287e+00,\n",
       "         -4.1507e+00, -1.1961e+01,  4.1959e+00,  8.1844e+00,  2.5714e+00],\n",
       "        [ 6.0296e+00, -2.4710e+00,  7.0680e+00,  1.3004e+01, -4.5006e+00,\n",
       "         -9.9589e+00, -1.5161e+01, -1.5491e+01,  2.8066e+00,  3.2765e+00],\n",
       "        [ 3.1348e+00, -1.8122e+01,  1.3104e-02,  1.0954e+01, -1.3886e+01,\n",
       "         -4.0207e+00, -1.9049e+01, -8.7065e+00,  6.4909e+00, -3.0754e+00],\n",
       "        [ 1.7263e+01, -9.6313e+00,  6.4363e+00,  1.4939e+00,  3.0854e+00,\n",
       "         -6.6790e+00, -2.1263e+01, -8.2607e+00,  6.8088e-02, -8.5216e+00],\n",
       "        [ 3.3808e+00, -5.9131e+00,  2.6405e+00,  7.0298e+00, -5.5683e+00,\n",
       "         -9.1513e+00, -2.2089e+01,  4.7298e-01, -5.9112e-01, -1.0076e+01],\n",
       "        [ 1.1839e+01, -1.0046e+01,  5.0474e+00,  1.7698e+01, -5.9025e+00,\n",
       "         -4.7125e+00, -1.8465e+01, -1.9651e+00, -6.6988e-01, -3.3034e+00],\n",
       "        [ 7.3254e+00, -9.3779e+00,  6.2463e+00,  1.6696e+01, -4.3820e+00,\n",
       "         -8.5405e+00, -1.1135e+01, -1.2153e+01, -6.5230e-01, -4.4448e+00],\n",
       "        [ 6.6848e+00, -1.3022e+01,  3.1034e+00,  1.5948e+01, -2.3725e+00,\n",
       "         -3.3021e+00, -8.7450e+00, -1.7695e+00, -3.3657e+00, -5.2511e+00],\n",
       "        [-6.8698e+00, -1.0325e+01,  1.4328e+01,  5.3053e+00, -2.8264e+00,\n",
       "          4.0205e+00, -1.1046e+01,  1.8508e+00,  4.8047e+00, -6.6172e+00],\n",
       "        [ 9.7875e+00, -8.4553e+00, -3.1894e+00,  1.2226e+01, -1.4177e+01,\n",
       "         -1.4433e+01, -1.7553e+01, -1.6082e+01,  6.6234e+00, -8.1996e-01],\n",
       "        [ 7.7946e+00, -1.9391e+01, -1.8301e+00,  1.0301e+01, -5.7606e+00,\n",
       "         -6.2625e+00, -1.0949e+01, -1.1185e+01,  5.7640e+00, -2.2208e+00],\n",
       "        [ 1.1832e+01, -1.9351e+01,  2.8164e+00,  1.1035e+01, -9.3666e+00,\n",
       "          4.8650e+00, -9.2311e+00, -9.5416e+00,  5.6148e+00, -7.7807e+00],\n",
       "        [ 4.6564e+00, -5.2536e+00, -1.8279e+00,  7.0143e+00, -5.9245e+00,\n",
       "         -4.9431e+00, -1.4588e+01, -8.3194e+00,  5.4426e+00, -8.4055e+00],\n",
       "        [ 5.0801e+00, -1.0452e+01, -2.7269e-01,  4.6606e+00, -1.8506e+00,\n",
       "         -9.3759e+00, -1.9079e+01, -5.4077e+00,  7.0210e+00, -3.3934e+00],\n",
       "        [ 5.1159e+00, -1.2052e+01,  5.7620e+00,  1.3746e+01,  4.7177e-01,\n",
       "         -1.2057e+01, -1.7034e+01, -9.0661e+00,  4.6327e+00,  3.3695e+00],\n",
       "        [ 2.3023e-01, -1.2000e+01,  1.0957e+01,  9.9704e+00,  1.0994e+01,\n",
       "          6.3592e+00, -3.0194e+01, -1.2713e+01,  1.1149e+01,  1.1651e+00],\n",
       "        [ 6.2403e+00, -9.1439e+00,  1.9580e+00,  6.5573e+00, -2.6690e+00,\n",
       "         -9.9419e+00, -1.1969e+01, -4.9183e+00,  5.8203e+00, -2.9930e+00],\n",
       "        [ 1.1226e+01, -1.4530e+01,  3.6444e+00,  1.7751e+01,  1.9163e+00,\n",
       "         -2.6541e+00, -1.7133e+01, -9.5981e+00,  2.0635e+00, -9.1832e-01],\n",
       "        [ 6.0773e+00, -1.6654e+01,  5.4309e+00,  1.0434e+01, -3.6344e+00,\n",
       "         -2.4474e+00, -1.1485e+01, -1.0948e+01, -5.3523e+00, -1.8449e+00],\n",
       "        [ 1.2406e+01, -8.2517e+00,  1.0475e+01,  1.2336e+01, -2.0154e+00,\n",
       "         -4.4447e+00, -7.3694e+00, -1.1082e+01,  3.4083e+00, -4.3070e+00],\n",
       "        [ 1.2098e+01, -4.5978e+00,  1.4916e+00,  1.3530e+01,  1.9748e+00,\n",
       "         -6.1631e+00, -1.6937e+01, -4.7065e+00,  3.5670e+00, -3.6835e+00],\n",
       "        [ 5.7035e+00, -1.0581e+01,  6.1174e+00,  6.5932e+00,  1.1544e+00,\n",
       "         -6.7937e+00, -1.2502e+01, -1.0972e+01,  6.2357e+00, -2.0974e+00],\n",
       "        [ 4.3101e+00, -1.8932e+01,  5.6826e+00,  1.4706e+01, -3.4333e+00,\n",
       "         -2.0674e+00, -8.0683e+00, -1.0050e+01,  4.0351e+00, -2.6737e+00],\n",
       "        [ 2.9238e+00, -1.5319e+01,  5.1429e+00,  7.8352e+00, -1.7231e+00,\n",
       "          2.0433e+00, -1.8537e+01, -3.0838e+00,  7.0764e+00, -8.1760e+00],\n",
       "        [ 7.3557e+00, -4.4779e+00, -2.0694e+00,  6.1438e+00,  4.6243e-01,\n",
       "         -1.4583e+00, -1.8249e+01, -3.3835e+00,  1.6977e+00, -5.8096e+00],\n",
       "        [ 1.1009e+01, -6.6134e+00,  2.4753e+00,  3.2349e+00, -9.2815e+00,\n",
       "         -1.3688e+01, -8.3104e+00, -4.7813e+00,  1.1521e+01, -5.5875e+00],\n",
       "        [ 4.7351e+00, -1.0993e+00, -7.1289e-01,  9.7234e+00, -2.6531e+00,\n",
       "          5.3260e+00, -1.0765e+01,  7.6304e+00,  5.4581e+00,  9.2782e+00],\n",
       "        [ 1.3744e+01, -1.3031e+00,  6.2154e+00,  3.3727e+00,  4.6529e+00,\n",
       "         -7.1270e+00, -1.0767e+01, -6.2528e+00,  4.3861e+00, -3.6675e+00],\n",
       "        [ 5.6750e+00, -6.3112e+00,  9.2548e+00,  1.6000e+01, -6.9723e+00,\n",
       "         -1.7563e+01, -1.7369e+01, -7.7138e+00,  2.5101e+00, -5.8669e+00],\n",
       "        [ 4.2636e+00, -6.4773e+00,  3.1750e+00,  8.0801e+00,  3.3743e+00,\n",
       "         -2.2023e+00, -1.5846e+01, -1.1576e+00,  4.4838e+00, -3.8818e+00],\n",
       "        [ 7.8788e+00, -1.1846e+01, -1.8020e-01,  7.1561e+00, -6.5653e+00,\n",
       "         -4.3108e+00, -1.7580e+01, -5.1042e+00, -1.2999e+00, -8.6675e+00],\n",
       "        [ 7.0706e+00, -1.5711e+01,  1.1334e+01,  1.2834e+01,  4.3635e+00,\n",
       "         -4.6220e+00, -1.6004e+01, -1.9389e+00, -9.2064e+00,  2.3683e+00],\n",
       "        [ 1.2956e+01, -1.1349e+01, -6.7670e+00,  5.8156e+00, -6.4252e-01,\n",
       "         -1.5514e+00, -1.7086e+01, -3.2615e+00,  9.6267e+00, -3.2495e+00],\n",
       "        [ 3.7628e+00, -1.6327e+01,  5.3037e+00,  7.1422e+00, -3.5236e+00,\n",
       "         -1.1559e+00, -2.2056e+01,  1.1661e-01,  8.5620e+00, -5.1801e+00],\n",
       "        [ 7.5577e+00, -1.8088e+01, -1.2003e+00,  2.5850e+00, -2.8184e+00,\n",
       "         -3.0548e-01, -1.2775e+01, -7.3625e+00,  5.4508e+00, -1.7515e+00],\n",
       "        [ 4.7601e+00, -8.5619e+00,  6.8328e+00,  9.5011e+00, -1.0137e+01,\n",
       "         -7.7789e+00, -1.2656e+01,  2.4006e+00,  1.2089e+01, -7.8989e+00],\n",
       "        [-5.1711e+00, -2.6288e+00,  5.1579e+00,  1.3351e+01,  4.1578e-01,\n",
       "          7.8157e+00, -1.4152e+01,  4.7711e+00,  6.1375e+00, -2.0370e+00],\n",
       "        [ 2.4295e+00, -8.1805e+00, -1.1150e-01,  1.5552e+01, -6.5029e+00,\n",
       "         -1.6825e+00, -2.2126e+01, -7.8010e+00,  8.1580e+00, -8.5453e+00],\n",
       "        [ 6.9392e+00, -6.4701e+00,  9.7416e+00,  1.7175e+01, -6.1411e+00,\n",
       "          2.4664e+00, -1.5251e+01, -9.5533e+00,  8.3158e+00, -1.0466e+01],\n",
       "        [-2.6378e-01, -2.2304e+01,  8.5236e+00,  8.3541e+00, -1.0681e+01,\n",
       "          1.1842e+00, -2.8470e+01, -8.3971e+00,  2.5590e+00, -1.1284e+01],\n",
       "        [ 4.8340e+00, -1.2187e+01,  1.2466e+01,  7.6387e+00,  2.8049e+00,\n",
       "          7.9644e+00, -1.0910e+01,  1.3073e+00,  9.7938e+00, -3.4767e+00],\n",
       "        [ 7.7495e+00, -2.1081e+01,  4.0515e+00,  1.2069e+01, -6.9521e+00,\n",
       "         -6.0333e+00, -1.0204e+01, -1.5602e+01,  2.2925e+00, -4.0078e+00],\n",
       "        [ 4.8702e+00, -8.4442e+00,  3.6824e-01,  8.9334e+00, -6.0135e+00,\n",
       "         -1.4072e+01, -1.7323e+01, -7.3358e+00,  3.2060e+00, -5.8498e-01],\n",
       "        [ 6.9408e+00, -1.3596e+01,  2.0886e+00,  6.6958e-01, -4.3536e+00,\n",
       "          9.5661e+00, -1.9518e+01, -1.4322e+01, -1.1606e+00, -1.1484e+01],\n",
       "        [ 8.7369e-01, -1.3728e+01,  8.5338e+00, -1.2300e+01,  3.0072e+00,\n",
       "         -2.7679e+00, -1.9824e+01, -7.6287e+00,  6.4979e+00,  7.5131e+00],\n",
       "        [-3.1162e+00, -1.1773e+01,  9.5479e+00,  8.9770e+00, -9.6397e+00,\n",
       "          1.0399e+01, -1.6451e+01, -5.9475e+00,  9.2379e+00, -7.6815e+00],\n",
       "        [ 1.0980e+01, -6.7141e+00,  2.1009e+00,  4.5349e+00,  1.3897e+00,\n",
       "         -5.1549e+00, -1.0105e+01, -9.0193e+00,  7.1164e+00, -3.3746e+00],\n",
       "        [ 3.9606e+00, -1.0651e+01,  7.1517e+00,  3.8651e+00,  5.9466e+00,\n",
       "         -2.9032e+00, -1.1973e+01, -8.2832e+00,  2.2425e+00,  2.2185e+00],\n",
       "        [ 1.3413e+01, -1.8235e+01,  1.0028e+01,  1.3976e+01,  7.7245e+00,\n",
       "          5.0533e+00, -2.0470e+01, -9.0281e+00,  1.0033e+01, -6.9788e+00],\n",
       "        [ 1.0153e+01, -8.3730e+00, -5.3902e-01,  6.4133e+00, -1.1377e+00,\n",
       "         -1.3258e+00, -6.2424e+00, -3.1105e+00, -3.9758e+00, -7.5973e+00],\n",
       "        [ 5.2982e+00, -3.6796e+00,  5.7183e-01,  8.1489e+00, -3.7333e+00,\n",
       "          8.8362e+00, -1.2581e+01, -7.5061e+00,  6.9627e+00, -1.1502e-01],\n",
       "        [ 7.5973e+00, -5.5135e+00, -3.4447e+00,  9.1161e+00, -8.1121e+00,\n",
       "         -7.4511e+00, -8.1390e+00, -2.5221e+00,  1.5486e+01, -4.5769e-01],\n",
       "        [ 2.4683e+00, -6.3407e+00,  5.4664e-01,  1.6959e+01, -4.6142e+00,\n",
       "         -1.5352e+00, -1.4312e+01,  4.6734e-01,  7.0099e+00,  2.6543e-01],\n",
       "        [ 1.0612e+01, -1.5358e+01,  1.7633e+00,  9.2209e+00, -8.6740e+00,\n",
       "         -2.9901e+00, -1.9368e+01, -3.5967e+00,  3.8054e+00, -2.6944e+00],\n",
       "        [ 4.7229e+00, -3.3106e+00, -2.1716e+00,  1.2296e+01, -6.9265e+00,\n",
       "         -4.0392e+00, -4.3612e+00, -1.5746e+00,  5.4489e+00, -2.5402e+00],\n",
       "        [-3.5941e+00, -1.7815e+01,  9.2105e+00,  1.3282e+01, -8.3320e+00,\n",
       "          4.6237e+00, -1.3607e+01, -3.1310e+00,  6.7544e+00, -6.5984e+00],\n",
       "        [-8.0281e-01, -1.4491e+01,  4.4002e+00,  4.1684e+00,  1.1267e+00,\n",
       "         -4.7112e+00, -1.1494e+01, -6.2544e+00,  1.0960e+01, -1.3048e+01],\n",
       "        [ 6.4576e+00, -1.0514e+01,  9.1052e+00,  1.7388e+01, -1.0688e+01,\n",
       "          1.3769e+00, -9.1465e+00, -2.0561e+01, -9.5312e-01, -3.4762e+00],\n",
       "        [ 1.7963e+01, -1.2974e+01,  4.4129e+00,  4.1111e+00, -6.3364e+00,\n",
       "         -1.1283e+01, -1.6137e+01, -1.2335e+01,  1.3455e+01,  1.3273e+00],\n",
       "        [ 9.1669e+00, -6.5850e+00,  2.1949e+00,  6.4598e+00, -1.2373e+00,\n",
       "         -7.1011e+00, -2.2499e+01, -2.5499e+00,  2.8870e+00, -1.0954e+01],\n",
       "        [-8.1187e+00, -2.4790e+01,  4.4252e+00,  2.0289e+01,  5.7985e-01,\n",
       "          5.9707e+00, -1.4743e+01, -1.1452e+01,  1.0294e+00,  2.5902e+00],\n",
       "        [ 1.1656e+01, -6.8998e+00,  1.9502e+00,  1.3811e+01, -6.8991e+00,\n",
       "         -7.8634e+00, -1.6939e+01, -6.4302e+00,  1.2838e-01, -3.7628e+00]])"
      ]
     },
     "execution_count": 16,
     "metadata": {},
     "output_type": "execute_result"
    }
   ],
   "source": [
    "output"
   ]
  },
  {
   "cell_type": "markdown",
   "metadata": {},
   "source": [
    "So, we want to convert these values into a probability distribution. For this we use [softmax](https://en.wikipedia.org/wiki/Softmax_function) function.  It looks like\n",
    "$$ \\sigma(x_i) = \\frac{e^{x_i}}{\\sum_{k} e^{x_k}}$$ \n",
    "\n",
    "    Exercise: Implement a function softmax that performs the softmax calculation and returns probability distributions for each example in the batch. "
   ]
  },
  {
   "cell_type": "code",
   "execution_count": 17,
   "metadata": {},
   "outputs": [
    {
     "name": "stdout",
     "output_type": "stream",
     "text": [
      "torch.Size([64, 10])\n",
      "tensor([1.0000, 1.0000, 1.0000, 1.0000, 1.0000, 1.0000, 1.0000, 1.0000, 1.0000,\n",
      "        1.0000, 1.0000, 1.0000, 1.0000, 1.0000, 1.0000, 1.0000, 1.0000, 1.0000,\n",
      "        1.0000, 1.0000, 1.0000, 1.0000, 1.0000, 1.0000, 1.0000, 1.0000, 1.0000,\n",
      "        1.0000, 1.0000, 1.0000, 1.0000, 1.0000, 1.0000, 1.0000, 1.0000, 1.0000,\n",
      "        1.0000, 1.0000, 1.0000, 1.0000, 1.0000, 1.0000, 1.0000, 1.0000, 1.0000,\n",
      "        1.0000, 1.0000, 1.0000, 1.0000, 1.0000, 1.0000, 1.0000, 1.0000, 1.0000,\n",
      "        1.0000, 1.0000, 1.0000, 1.0000, 1.0000, 1.0000, 1.0000, 1.0000, 1.0000,\n",
      "        1.0000])\n"
     ]
    }
   ],
   "source": [
    "def softmax(x):\n",
    "    '''\n",
    "    Note that you'll need to pay attention to the shapes when doing this. If you have a tensor a with \n",
    "    shape (64, 10) and a tensor b with shape (64,), doing a/b will give you an error because PyTorch \n",
    "    will try to do the division across the columns (called broadcasting) but you'll get a size mismatch. \n",
    "    The way to think about this is for each of the 64 examples, you only want to divide by one value, \n",
    "    the sum in the denominator. So you need b to have a shape of (64, 1). This way PyTorch will divide \n",
    "    the 10 values in each row of a by the one value in each row of b. Pay attention to how you take \n",
    "    the sum as well. You'll need to define the dim keyword in torch.sum. Setting dim=0 takes the sum \n",
    "    across the rows while dim=1 takes the sum across the columns.\n",
    "    '''\n",
    "    return torch.exp(x) / torch.sum(torch.exp(x), dim=1).view(-1, 1)\n",
    "\n",
    "output_probs = softmax(output) \n",
    "# Check that it has the sahpe (64, 10)\n",
    "print(output_probs.shape)\n",
    "# Check that the probs add up to 1\n",
    "print(output_probs.sum(dim=1))"
   ]
  },
  {
   "cell_type": "markdown",
   "metadata": {},
   "source": [
    "<a id='building_networks_with_pytorch'></a>\n",
    "## 5. Building networks with PyTorch from scratch\n",
    "\n",
    "Now we will build the same neural network with PyTorch's **nn** module. "
   ]
  },
  {
   "cell_type": "code",
   "execution_count": 18,
   "metadata": {},
   "outputs": [],
   "source": [
    "from torch import nn\n",
    "\n",
    "class Network(nn.Module):\n",
    "    def __init__(self):\n",
    "        super().__init__() \n",
    "        \n",
    "        # We have one hidden layer and one output layer.\n",
    "        # hidden layer takes 784 inputs and outputs 256\n",
    "        self.hidden = nn.Linear(784, 256)\n",
    "        # output layer takes these 256 inputs and results in 10 \n",
    "        self.output = nn.Linear(256, 10)\n",
    "        \n",
    "        # Define sigmoid activation and softmax output \n",
    "        self.sigmoid = nn.Sigmoid()\n",
    "        # At the end of the network, we want probability distributions, so we use softmax \n",
    "        self.softmax = nn.Softmax(dim=1)        \n",
    "\n",
    "    def forward(self, x):\n",
    "        # Pass the input tensor through each of our operations\n",
    "        x = self.hidden(x)\n",
    "        x = self.sigmoid(x)\n",
    "        x = self.output(x)\n",
    "        x = self.softmax(x)\n",
    "        \n",
    "        return x\n"
   ]
  },
  {
   "cell_type": "markdown",
   "metadata": {},
   "source": [
    "(The following is from the lecture note) \n",
    "\n",
    "Let's go through this bit by bit.\n",
    "\n",
    "```python\n",
    "class Network(nn.Module):\n",
    "```\n",
    "\n",
    "Here we're inheriting from `nn.Module`. Combined with `super().__init__()` this creates a class that tracks the architecture and provides a lot of useful methods and attributes. It is mandatory to inherit from `nn.Module` when you're creating a class for your network. The name of the class itself can be anything.\n",
    "\n",
    "```python\n",
    "self.hidden = nn.Linear(784, 256)\n",
    "```\n",
    "\n",
    "This line creates a module for a linear transformation, $x\\mathbf{W} + b$, with 784 inputs and 256 outputs and assigns it to `self.hidden`. The module automatically creates the weight and bias tensors which we'll use in the `forward` method. You can access the weight and bias tensors once the network (`net`) is created with `net.hidden.weight` and `net.hidden.bias`.\n",
    "\n",
    "```python\n",
    "self.output = nn.Linear(256, 10)\n",
    "```\n",
    "\n",
    "Similarly, this creates another linear transformation with 256 inputs and 10 outputs.\n",
    "\n",
    "```python\n",
    "self.sigmoid = nn.Sigmoid()\n",
    "self.softmax = nn.Softmax(dim=1)\n",
    "```\n",
    "\n",
    "Here I defined operations for the sigmoid activation and softmax output. Setting `dim=1` in `nn.Softmax(dim=1)` calculates softmax across the columns.\n",
    "\n",
    "```python\n",
    "def forward(self, x):\n",
    "```\n",
    "\n",
    "PyTorch networks created with `nn.Module` must have a `forward` method defined. It takes in a tensor `x` and passes it through the operations you defined in the `__init__` method.\n",
    "\n",
    "```python\n",
    "x = self.hidden(x)\n",
    "x = self.sigmoid(x)\n",
    "x = self.output(x)\n",
    "x = self.softmax(x)\n",
    "```\n",
    "\n",
    "Here the input tensor `x` is passed through each operation a reassigned to `x`. We can see that the input tensor goes through the hidden layer, then a sigmoid function, then the output layer, and finally the softmax function. It doesn't matter what you name the variables here, as long as the inputs and outputs of the operations match the network architecture you want to build. The order in which you define things in the `__init__` method doesn't matter, but you'll need to sequence the operations correctly in the `forward` method.\n",
    "\n",
    "Now we can create a `Network` object."
   ]
  },
  {
   "cell_type": "code",
   "execution_count": 19,
   "metadata": {},
   "outputs": [
    {
     "data": {
      "text/plain": [
       "Network(\n",
       "  (hidden): Linear(in_features=784, out_features=256, bias=True)\n",
       "  (output): Linear(in_features=256, out_features=10, bias=True)\n",
       "  (sigmoid): Sigmoid()\n",
       "  (softmax): Softmax(dim=1)\n",
       ")"
      ]
     },
     "execution_count": 19,
     "metadata": {},
     "output_type": "execute_result"
    }
   ],
   "source": [
    "# Create the network and look at it's representation\n",
    "model = Network()\n",
    "model"
   ]
  },
  {
   "cell_type": "markdown",
   "metadata": {},
   "source": [
    "We can clean the code further by using `torch.nn.functional` module to combine layers with the activation functions."
   ]
  },
  {
   "cell_type": "code",
   "execution_count": 20,
   "metadata": {},
   "outputs": [],
   "source": [
    "import torch.nn.functional as F\n",
    "from torch import nn\n",
    "\n",
    "class Network(nn.Module):\n",
    "    def __init__(self):\n",
    "        super().__init__() \n",
    "        # input to hidden : 784 to 256\n",
    "        self.hidden = nn.Linear(784, 256)\n",
    "        # hidden to output : 256 to 10\n",
    "        self.output = nn.Linear(256, 10)\n",
    "\n",
    "    def forward(self, x):\n",
    "        # hidden layer with sigmoid activation function\n",
    "        x = F.sigmoid(self.hidden(x))\n",
    "        # ouput layer with sogtmax activation function\n",
    "        x = F.softmax(self.output(x), dim=1)\n",
    "        \n",
    "        return x"
   ]
  },
  {
   "cell_type": "markdown",
   "metadata": {},
   "source": [
    "<a id='activation_functions'></a>\n",
    "### 5.A. Activation Functions \n",
    "\n",
    "A function can pass as an activation functions as long as it is not linear. Some common activation functions are Sigmoid, ReLU (rectified linear unit), and Tanh (hyperbolic tangent). \n",
    "\n",
    "In practice, the ReLU is used almost exclusively as the activation function for hidden layers, mainly because it is computationally light. \n",
    "\n",
    "    Exercise: Create a network with 784 input units, a hidden layer with 128 units and a ReLU activation, then a hidden layer with 64 units and a ReLU activation, and finally an output layer with a softmax activation. You can use  ReLU activation with the nn.ReLU module or F.relu function. "
   ]
  },
  {
   "cell_type": "code",
   "execution_count": 21,
   "metadata": {},
   "outputs": [
    {
     "name": "stdout",
     "output_type": "stream",
     "text": [
      "Network(\n",
      "  (fc1): Linear(in_features=784, out_features=128, bias=True)\n",
      "  (fc2): Linear(in_features=128, out_features=64, bias=True)\n",
      "  (fc3): Linear(in_features=64, out_features=10, bias=True)\n",
      ")\n"
     ]
    }
   ],
   "source": [
    "from torch import nn \n",
    "import torch.nn.functional as F\n",
    "\n",
    "class Network(nn.Module):\n",
    "    def __init__(self):\n",
    "        super().__init__()\n",
    "        # from input to first hidden: 784 to 128\n",
    "        self.fc1 = nn.Linear(784, 128)\n",
    "        # from first hidden to second hidden: 128 to 64 \n",
    "        self.fc2 = nn.Linear(128, 64)\n",
    "        # from second hidden to output: 64  to 10\n",
    "        self.fc3 = nn.Linear(64, 10)\n",
    "    \n",
    "    def forward(self, x): \n",
    "        x = F.relu(self.fc1(x))\n",
    "        x = F.relu(self.fc2(x))\n",
    "        x = F.softmax(self.fc3(x), dim = 1)\n",
    "        \n",
    "        return x\n",
    "\n",
    "model = Network()\n",
    "print(model)\n",
    "        "
   ]
  },
  {
   "cell_type": "markdown",
   "metadata": {},
   "source": [
    "<a id='initializing_weights_and_biases'></a>\n",
    "### 5.B. Initializing weights and biases\n",
    "\n",
    "Even though `nn` module automatically initializes the weight, it is possible to customize the initialization. Weights and biases are tensors attached to the layer we define. We can get them with `model.fc1.weight`. You can customize bias and weights by `model.fc1.bias.data.fill_(0)` and `model.fc1.weight.data.normal_(std=0.01)`, for instance. "
   ]
  },
  {
   "cell_type": "code",
   "execution_count": 22,
   "metadata": {},
   "outputs": [
    {
     "name": "stdout",
     "output_type": "stream",
     "text": [
      "Parameter containing:\n",
      "tensor([[-0.0167, -0.0088, -0.0015,  ..., -0.0038,  0.0165,  0.0287],\n",
      "        [ 0.0120, -0.0334,  0.0285,  ...,  0.0128,  0.0206,  0.0316],\n",
      "        [ 0.0028, -0.0170,  0.0043,  ...,  0.0135, -0.0126,  0.0049],\n",
      "        ...,\n",
      "        [-0.0030,  0.0010,  0.0116,  ..., -0.0191, -0.0356, -0.0038],\n",
      "        [ 0.0075,  0.0167, -0.0202,  ...,  0.0094, -0.0067,  0.0044],\n",
      "        [ 0.0092, -0.0278,  0.0349,  ...,  0.0299,  0.0196, -0.0037]],\n",
      "       requires_grad=True)\n",
      "Parameter containing:\n",
      "tensor([ 0.0261,  0.0135, -0.0252,  0.0028, -0.0346, -0.0167, -0.0181,  0.0192,\n",
      "        -0.0162,  0.0156, -0.0127,  0.0289, -0.0123, -0.0328, -0.0063, -0.0131,\n",
      "        -0.0334, -0.0344, -0.0080, -0.0080, -0.0296, -0.0007,  0.0103, -0.0027,\n",
      "        -0.0057,  0.0267,  0.0118, -0.0029, -0.0229,  0.0132,  0.0070,  0.0011,\n",
      "         0.0192,  0.0342, -0.0333,  0.0197,  0.0153,  0.0090,  0.0188, -0.0305,\n",
      "        -0.0039,  0.0084, -0.0124,  0.0297, -0.0283,  0.0132,  0.0203,  0.0325,\n",
      "         0.0129,  0.0013,  0.0282, -0.0348,  0.0161, -0.0333, -0.0010, -0.0250,\n",
      "         0.0107,  0.0040,  0.0173, -0.0081, -0.0349,  0.0080, -0.0157, -0.0353,\n",
      "        -0.0165, -0.0184,  0.0020, -0.0126, -0.0084,  0.0191, -0.0202, -0.0061,\n",
      "         0.0252, -0.0320,  0.0314,  0.0291,  0.0242,  0.0037,  0.0227, -0.0167,\n",
      "         0.0331, -0.0123,  0.0281,  0.0317,  0.0316, -0.0323, -0.0254, -0.0046,\n",
      "         0.0271, -0.0263,  0.0236, -0.0103, -0.0159,  0.0282,  0.0298,  0.0100,\n",
      "         0.0188,  0.0192, -0.0218, -0.0049,  0.0290,  0.0103,  0.0030,  0.0254,\n",
      "        -0.0235,  0.0065,  0.0324, -0.0195, -0.0234,  0.0188,  0.0323,  0.0133,\n",
      "        -0.0268,  0.0244, -0.0028, -0.0096, -0.0289, -0.0271, -0.0229, -0.0188,\n",
      "         0.0014,  0.0091,  0.0123, -0.0346,  0.0121,  0.0134, -0.0013,  0.0010],\n",
      "       requires_grad=True)\n"
     ]
    }
   ],
   "source": [
    "print(model.fc1.weight)\n",
    "print(model.fc1.bias)"
   ]
  },
  {
   "cell_type": "markdown",
   "metadata": {},
   "source": [
    "<a id='forward_pass'></a>\n",
    "### 5.C. Forward Pass"
   ]
  },
  {
   "cell_type": "markdown",
   "metadata": {},
   "source": [
    "Now that we have a built a network, let's see what happens when we pass an image"
   ]
  },
  {
   "cell_type": "code",
   "execution_count": 23,
   "metadata": {},
   "outputs": [],
   "source": [
    "#From the iterator, get some other set of data \n",
    "dataiter = iter(trainloader)\n",
    "images, labels = dataiter.next()\n",
    "\n",
    "# remember, we use a flattened layer as the input layer. \n",
    "# So we must resize the images. \n",
    "images.resize_(64, 1, 784) \n",
    "\n",
    "# let's forward pass an image from out batch of 64\n",
    "prob_dist = model.forward(images[0,:]) \n",
    "\n",
    "img = images[0] "
   ]
  },
  {
   "cell_type": "markdown",
   "metadata": {},
   "source": [
    "We have chosen the first image in our batch. below we plot this image along with the probability distribution that our network creates on possible outcomes by one forward pass. The function below, `image_and_probdistn()`, draws these two images. "
   ]
  },
  {
   "cell_type": "code",
   "execution_count": 24,
   "metadata": {},
   "outputs": [],
   "source": [
    "import matplotlib.cm as cm\n",
    "def image_and_probdistn(image, prob_dist):\n",
    "    fig, (ax1, ax2) = plt.subplots(1, 2)\n",
    "    ax1.imshow(img.view(1, 28, 28).numpy().squeeze(), cmap = 'Greys_r')\n",
    "    ax1.set_title('Image')\n",
    "\n",
    "    plt.sca(ax2)\n",
    "    ax2.barh(np.arange(10), np.array(prob_dist.detach().numpy().tolist()[0]), align='center')\n",
    "    ax2.set_xlim(0,1)\n",
    "    ax2.set_yticks(np.arange(10))\n",
    "    ax2.set_title('Class Probability.')\n",
    "\n",
    "    plt.show()\n",
    "    "
   ]
  },
  {
   "cell_type": "code",
   "execution_count": 25,
   "metadata": {},
   "outputs": [
    {
     "data": {
      "image/png": "[encoded data removed]",
      "text/plain": [
       "<Figure size 432x288 with 2 Axes>"
      ]
     },
     "metadata": {
      "needs_background": "light"
     },
     "output_type": "display_data"
    }
   ],
   "source": [
    "image_and_probdistn(img, prob_dist)"
   ]
  },
  {
   "cell_type": "markdown",
   "metadata": {},
   "source": [
    "As seen above, the initial guess of the network is ambiguous. This is because we moved forward once with the initial weights. Later we will back-propogate our mistakes in order to improve our network's guess. \n",
    "\n",
    "<a id='sequential'></a>\n",
    "## 6. Building Networks using `nn.Sequential` \n",
    "\n",
    "Another way of building the Network class is using `nn.Sequential`. We could have built the same network above by the code below. "
   ]
  },
  {
   "cell_type": "code",
   "execution_count": 26,
   "metadata": {
    "scrolled": true
   },
   "outputs": [
    {
     "name": "stdout",
     "output_type": "stream",
     "text": [
      "Sequential(\n",
      "  (0): Linear(in_features=784, out_features=128, bias=True)\n",
      "  (1): ReLU()\n",
      "  (2): Linear(in_features=128, out_features=64, bias=True)\n",
      "  (3): ReLU()\n",
      "  (4): Linear(in_features=64, out_features=10, bias=True)\n",
      "  (5): Softmax(dim=1)\n",
      ")\n"
     ]
    },
    {
     "data": {
      "image/png": "[encoded data removed]",
      "text/plain": [
       "<Figure size 432x288 with 2 Axes>"
      ]
     },
     "metadata": {
      "needs_background": "light"
     },
     "output_type": "display_data"
    }
   ],
   "source": [
    "# Build a feed-forward network\n",
    "model = nn.Sequential(nn.Linear(784, 128),\n",
    "                      nn.ReLU(),\n",
    "                      nn.Linear(128, 64),\n",
    "                      nn.ReLU(),\n",
    "                      nn.Linear(64, 10),\n",
    "                      nn.Softmax(dim=1))\n",
    "print(model)\n",
    "\n",
    "dataiter = iter(trainloader)\n",
    "images, labels = dataiter.next()\n",
    "images.resize_(64, 1, 784) \n",
    "prob_dist = model.forward(images[0,:]) \n",
    "img = images[0] \n",
    "image_and_probdistn(img, prob_dist)"
   ]
  },
  {
   "cell_type": "markdown",
   "metadata": {},
   "source": [
    "<a id='training'></a>\n",
    "## 7. Model Training\n",
    "\n",
    "In order to optimize the process, we need to have an objective. That is to minimize the **loss function** (also called the cost) defined as \n",
    "$$\n",
    "\\large \\ell = \\frac{1}{2n}\\sum_i^n{\\left(y_i - \\hat{y}_i\\right)^2}\n",
    "$$\n",
    "where $n$ is the number of training examples, $y_i$ are the true labels, and $\\hat{y}_i$ are the predicted labels. \n",
    "As usual, you may define a different loss function depending on your objective. \n",
    "\n",
    "Having a nice a convex function as our objective function, we can simply use the first order condition, or computationaly, Gradient Descent. Since we have multiple layers in the network when we move from the input to the output, we will be using the chain rule. Back propogation utilize it to update the weights.  "
   ]
  },
  {
   "cell_type": "code",
   "execution_count": 27,
   "metadata": {},
   "outputs": [
    {
     "name": "stdout",
     "output_type": "stream",
     "text": [
      "The loss is 2.301328\n"
     ]
    }
   ],
   "source": [
    "# Define the same model witout the softmax step. \n",
    "model = nn.Sequential(nn.Linear(784, 128),\n",
    "                      nn.ReLU(),\n",
    "                      nn.Linear(128, 64),\n",
    "                      nn.ReLU(),\n",
    "                      nn.Linear(64, 10))\n",
    "\n",
    "# Define the loss \n",
    "criterion = nn.CrossEntropyLoss()\n",
    "\n",
    "# Get the data \n",
    "images, labels = next(iter(trainloader))\n",
    "\n",
    "# Flatten images \n",
    "images = images.view([images.shape[0], -1])\n",
    "\n",
    "# Forward pass, get the logits\n",
    "logits = model(images) \n",
    "\n",
    "# Calculate the loss \n",
    "loss = criterion(logits, labels) \n",
    "\n",
    "print('The loss is %f' % loss)"
   ]
  },
  {
   "cell_type": "markdown",
   "metadata": {},
   "source": [
    "    Exercise: Now let;s build a model with the log-softmax output by using `nn.LofSoftMax` or `F.log_softmax`. Then you can get the actual probabilites by taking the exponential `torch.exp(output)`. With a log-softmax output, you want to use the negative log likelihood loss, `nn.NLLLoss`"
   ]
  },
  {
   "cell_type": "code",
   "execution_count": 28,
   "metadata": {},
   "outputs": [
    {
     "name": "stdout",
     "output_type": "stream",
     "text": [
      "The loss is 2.280704\n",
      "tensor(2.2807, grad_fn=<NllLossBackward>)\n"
     ]
    }
   ],
   "source": [
    "model = nn.Sequential(nn.Linear(784, 128),\n",
    "                      nn.ReLU(), \n",
    "                      nn.Linear(128, 64), \n",
    "                      nn.ReLU(), \n",
    "                      nn.Linear(64, 10),\n",
    "                      nn.LogSoftmax(dim=1)\n",
    "                     ) \n",
    "# define the loss\n",
    "criterion = nn.NLLLoss() \n",
    "\n",
    "# get the data\n",
    "images, labels = next(iter(trainloader))\n",
    "images = images.view(images.shape[0], -1)\n",
    "\n",
    "# forward pass, get logits\n",
    "log_probs = model(images)\n",
    "# calculate the loss with the logits and the labels\n",
    "loss = criterion(log_probs, labels)\n",
    "print('The loss is %f' % loss)\n",
    "print(loss) "
   ]
  },
  {
   "cell_type": "markdown",
   "metadata": {},
   "source": [
    "<a id='autograd'></a>\n",
    "### 7.A. Autograd\n",
    "\n",
    "PyTorch provides a module, `autograd`, for automatically calculating the gradients of tensors. \n",
    "Autograd works by keeping track of operations performed on tensors, then going backwards through those operations, calculating gradients along the way\n",
    "You can turn off gradients for a block of code with the `torch.no_grad()` content:\n",
    "```python\n",
    "x = torch.zeros(1, requires_grad=True)\n",
    ">>> with torch.no_grad():\n",
    "...     y = x * 2\n",
    ">>> y.requires_grad\n",
    "False\n",
    "```"
   ]
  },
  {
   "cell_type": "code",
   "execution_count": 29,
   "metadata": {},
   "outputs": [
    {
     "name": "stdout",
     "output_type": "stream",
     "text": [
      "tensor([[ 0.0276,  0.0181],\n",
      "        [ 0.7817, -1.0574]], requires_grad=True)\n",
      "tensor([[7.6416e-04, 3.2865e-04],\n",
      "        [6.1103e-01, 1.1181e+00]], grad_fn=<PowBackward0>)\n",
      "<PowBackward0 object at 0x00000218D8CB3DC8>\n",
      "tensor(0.4326, grad_fn=<MeanBackward0>)\n"
     ]
    }
   ],
   "source": [
    "# create a 2x2 tensor with gradient method on\n",
    "x = torch.randn(2,2, requires_grad = True)\n",
    "print(x) \n",
    "\n",
    "# square it and assign it to a new var y\n",
    "y = x**2\n",
    "print(y) \n",
    "\n",
    "print(y.grad_fn) \n",
    "\n",
    "z = y.mean() \n",
    "print(z)"
   ]
  },
  {
   "cell_type": "markdown",
   "metadata": {},
   "source": [
    "To calculate the gradients, you need to run the `.backward` method on a Variable, `z` for example. This will calculate the gradient for `z` with respect to `x`\n",
    "\n",
    "$$\n",
    "\\frac{\\partial z}{\\partial x} = \\frac{\\partial}{\\partial x}\\left[\\frac{1}{n}\\sum_i^n x_i^2\\right] = \\frac{x}{2}\n",
    "$$"
   ]
  },
  {
   "cell_type": "code",
   "execution_count": 30,
   "metadata": {},
   "outputs": [
    {
     "name": "stdout",
     "output_type": "stream",
     "text": [
      "None\n",
      "tensor([[ 0.0138,  0.0091],\n",
      "        [ 0.3908, -0.5287]])\n",
      "tensor([[ 0.0138,  0.0091],\n",
      "        [ 0.3908, -0.5287]], grad_fn=<DivBackward0>)\n"
     ]
    }
   ],
   "source": [
    "# without z.backward() x.grad is none\n",
    "print(x.grad)\n",
    "\n",
    "z.backward()\n",
    "print(x.grad)\n",
    "print(x/2)"
   ]
  },
  {
   "cell_type": "markdown",
   "metadata": {},
   "source": [
    "<a id='loss_autograd'></a>\n",
    "### 7.B. Loss and Autograd Together \n",
    "\n",
    "PyTroch creates a network with all of the parameters being initialized with `requires_grad = True`. As a result, we can calculate `loss.backward()`. "
   ]
  },
  {
   "cell_type": "code",
   "execution_count": 31,
   "metadata": {},
   "outputs": [],
   "source": [
    "model = nn.Sequential(nn.Linear(784, 128),\n",
    "                      nn.ReLU(), \n",
    "                      nn.Linear(128, 64), \n",
    "                      nn.ReLU(), \n",
    "                      nn.Linear(64, 10),\n",
    "                      nn.LogSoftmax(dim=1)\n",
    "                     ) \n",
    "# define the loss\n",
    "criterion = nn.NLLLoss() \n",
    "\n",
    "# get the data\n",
    "images, labels = next(iter(trainloader))\n",
    "images = images.view(images.shape[0], -1)\n",
    "\n",
    "# forward pass, get logits\n",
    "log_probs = model(images)\n",
    "# calculate the loss with the logits and the labels\n",
    "loss = criterion(log_probs, labels)"
   ]
  },
  {
   "cell_type": "code",
   "execution_count": 32,
   "metadata": {},
   "outputs": [
    {
     "name": "stdout",
     "output_type": "stream",
     "text": [
      "Before backward pass: \n",
      " None\n",
      "After backward pass: \n",
      " tensor([[-0.0003, -0.0003, -0.0003,  ..., -0.0003, -0.0003, -0.0003],\n",
      "        [-0.0019, -0.0019, -0.0019,  ..., -0.0019, -0.0019, -0.0019],\n",
      "        [-0.0014, -0.0014, -0.0014,  ..., -0.0014, -0.0014, -0.0014],\n",
      "        ...,\n",
      "        [ 0.0005,  0.0005,  0.0005,  ...,  0.0005,  0.0005,  0.0005],\n",
      "        [ 0.0006,  0.0006,  0.0006,  ...,  0.0006,  0.0006,  0.0006],\n",
      "        [ 0.0004,  0.0004,  0.0004,  ...,  0.0004,  0.0004,  0.0004]])\n"
     ]
    }
   ],
   "source": [
    "print('Before backward pass: \\n', model[0].weight.grad)\n",
    "\n",
    "loss.backward()\n",
    "print('After backward pass: \\n', model[0].weight.grad)"
   ]
  },
  {
   "cell_type": "markdown",
   "metadata": {},
   "source": [
    "<a id='training_network'></a>\n",
    "### 7.C. Training the network\n",
    "\n",
    "Now we can train our network by optimizing the weights using the gradients for gradient descent.  To do this, we will use optimizers, which comes from PyTorch's `optim.SGD` package. "
   ]
  },
  {
   "cell_type": "code",
   "execution_count": 33,
   "metadata": {},
   "outputs": [],
   "source": [
    "from torch import optim \n",
    "\n",
    "# optimizers require the parameters to optimize and learning rate\n",
    "optimizer = optim.SGD(model.parameters(), lr = 0.01)"
   ]
  },
  {
   "cell_type": "markdown",
   "metadata": {},
   "source": [
    "Now we know how to use all the individual parts so it's time to see how they work together. Let's consider just one learning step before looping through all the data. The general process with PyTorch:\n",
    "\n",
    "* Make a forward pass through the network \n",
    "* Use the network output to calculate the loss\n",
    "* Perform a backward pass through the network with `loss.backward()` to calculate the gradients\n",
    "* Take a step with the optimizer to update the weights\n",
    "\n",
    "Below we go through one training step and print out the weights and gradients so you can see how it changes. \n",
    "\n",
    "    Note that there is a line of code `optimizer.zero_grad()`. When you do multiple backwards passes with the same parameters, the gradients are accumulated. This means that you need to zero the gradients on each training pass or you'll retain gradients from previous training batches."
   ]
  },
  {
   "cell_type": "code",
   "execution_count": 34,
   "metadata": {},
   "outputs": [
    {
     "name": "stdout",
     "output_type": "stream",
     "text": [
      "Initial weights -  Parameter containing:\n",
      "tensor([[ 0.0020, -0.0033,  0.0261,  ...,  0.0103, -0.0185,  0.0270],\n",
      "        [ 0.0237, -0.0303, -0.0017,  ..., -0.0344,  0.0017, -0.0323],\n",
      "        [ 0.0239,  0.0036, -0.0093,  ...,  0.0320, -0.0135, -0.0229],\n",
      "        ...,\n",
      "        [-0.0350,  0.0004,  0.0184,  ...,  0.0073, -0.0171, -0.0142],\n",
      "        [-0.0081, -0.0022,  0.0276,  ..., -0.0188, -0.0340, -0.0062],\n",
      "        [ 0.0259, -0.0312, -0.0056,  ..., -0.0129, -0.0133,  0.0129]],\n",
      "       requires_grad=True)\n",
      "Gradient - tensor([[ 0.0020,  0.0020,  0.0020,  ...,  0.0020,  0.0020,  0.0020],\n",
      "        [-0.0010, -0.0010, -0.0010,  ..., -0.0010, -0.0010, -0.0010],\n",
      "        [ 0.0029,  0.0029,  0.0029,  ...,  0.0029,  0.0029,  0.0029],\n",
      "        ...,\n",
      "        [ 0.0000,  0.0000,  0.0000,  ...,  0.0000,  0.0000,  0.0000],\n",
      "        [-0.0026, -0.0026, -0.0026,  ..., -0.0026, -0.0026, -0.0026],\n",
      "        [ 0.0066,  0.0066,  0.0066,  ...,  0.0066,  0.0066,  0.0066]])\n",
      "Updated weights -  Parameter containing:\n",
      "tensor([[ 0.0020, -0.0033,  0.0261,  ...,  0.0103, -0.0185,  0.0270],\n",
      "        [ 0.0237, -0.0303, -0.0017,  ..., -0.0344,  0.0017, -0.0323],\n",
      "        [ 0.0239,  0.0036, -0.0093,  ...,  0.0319, -0.0135, -0.0229],\n",
      "        ...,\n",
      "        [-0.0350,  0.0004,  0.0184,  ...,  0.0073, -0.0171, -0.0142],\n",
      "        [-0.0081, -0.0021,  0.0276,  ..., -0.0188, -0.0340, -0.0062],\n",
      "        [ 0.0259, -0.0313, -0.0057,  ..., -0.0130, -0.0133,  0.0129]],\n",
      "       requires_grad=True)\n"
     ]
    }
   ],
   "source": [
    "print('Initial weights - ', model[0].weight)\n",
    "\n",
    "# get the data\n",
    "images, labels = next(iter(trainloader))\n",
    "\n",
    "# flatten it\n",
    "images.resize_(64,784)\n",
    "\n",
    "# clear the gradients in order to avoid the accumulation\n",
    "optimizer.zero_grad()\n",
    "\n",
    "# forward pass, backward pass, update weights \n",
    "output = model(images)\n",
    "loss = criterion(output, labels)\n",
    "loss.backward()\n",
    "print('Gradient -', model[0].weight.grad)\n",
    "\n",
    "# Take an update step and few the new weights\n",
    "optimizer.step()\n",
    "print('Updated weights - ', model[0].weight)"
   ]
  },
  {
   "cell_type": "markdown",
   "metadata": {},
   "source": [
    "<a id='training_forreal'></a>\n",
    "## 8. Training For Real\n",
    "\n",
    "Now let's loop over the optimization process to update our weights in order to minimize the loss function. "
   ]
  },
  {
   "cell_type": "code",
   "execution_count": 35,
   "metadata": {},
   "outputs": [
    {
     "name": "stdout",
     "output_type": "stream",
     "text": [
      " Epoch 1 - Training loss: 1.916575224033551\n",
      " Epoch 2 - Training loss: 0.8912317223195583\n",
      " Epoch 3 - Training loss: 0.542008754302825\n",
      " Epoch 4 - Training loss: 0.4363247998424176\n",
      " Epoch 5 - Training loss: 0.38851464018702253\n",
      " Epoch 6 - Training loss: 0.36104277241776495\n"
     ]
    }
   ],
   "source": [
    "model = nn.Sequential(nn.Linear(784, 128),\n",
    "                     nn.ReLU(), \n",
    "                     nn.Linear(128,64),\n",
    "                     nn.ReLU(), \n",
    "                     nn.Linear(64,10), \n",
    "                     nn.LogSoftmax(dim = 1)\n",
    "                     )\n",
    "\n",
    "criterion = nn.NLLLoss()\n",
    "optimizer = optim.SGD(model.parameters(), lr = 0.003)\n",
    "\n",
    "epochs = 6\n",
    "for e in range(epochs):\n",
    "    # accumulate the losses as trainloader loads data \n",
    "    running_loss = 0\n",
    "    for images, labels in trainloader:\n",
    "        # flatten the images\n",
    "        images = images.view(images.shape[0], -1)\n",
    "        \n",
    "        # do not forget to skip this step\n",
    "        optimizer.zero_grad()\n",
    "        # forward pass, calculate the loss, backward pass, take a step\n",
    "        output = model(images)\n",
    "        loss = criterion(output, labels)\n",
    "        loss.backward()\n",
    "        optimizer.step()\n",
    "        \n",
    "        # addup the losses\n",
    "        running_loss += loss.item()\n",
    "    else:\n",
    "        print(f\" Epoch {e+1} - Training loss: {running_loss/len(trainloader)}\")\n"
   ]
  },
  {
   "cell_type": "markdown",
   "metadata": {},
   "source": [
    "Now that we have trained the model, it is time to check its predcitions. "
   ]
  },
  {
   "cell_type": "code",
   "execution_count": 36,
   "metadata": {},
   "outputs": [
    {
     "data": {
      "image/png": "[encoded data removed]",
      "text/plain": [
       "<Figure size 432x288 with 2 Axes>"
      ]
     },
     "metadata": {
      "needs_background": "light"
     },
     "output_type": "display_data"
    }
   ],
   "source": [
    "images, labels = next(iter(testloader))\n",
    "\n",
    "img = images[0].view(1, 784)\n",
    "with torch.no_grad():\n",
    "    log_probs = model(img)\n",
    "logits =torch.exp(log_probs)\n",
    "    \n",
    "\n",
    "image_and_probdistn(img, logits)\n"
   ]
  },
  {
   "cell_type": "markdown",
   "metadata": {},
   "source": [
    "We have build a wonderful neural network that can accurately predict the digits in mnist dataset."
   ]
  }
 ],
 "metadata": {
  "kernelspec": {
   "display_name": "Python 3",
   "language": "python",
   "name": "python3"
  },
  "language_info": {
   "codemirror_mode": {
    "name": "ipython",
    "version": 3
   },
   "file_extension": ".py",
   "mimetype": "text/x-python",
   "name": "python",
   "nbconvert_exporter": "python",
   "pygments_lexer": "ipython3",
   "version": "3.7.7"
  },
  "toc": {
   "base_numbering": 1,
   "nav_menu": {},
   "number_sections": true,
   "sideBar": true,
   "skip_h1_title": false,
   "title_cell": "Table of Contents",
   "title_sidebar": "Contents",
   "toc_cell": false,
   "toc_position": {},
   "toc_section_display": true,
   "toc_window_display": false
  }
 },
 "nbformat": 4,
 "nbformat_minor": 4
}
